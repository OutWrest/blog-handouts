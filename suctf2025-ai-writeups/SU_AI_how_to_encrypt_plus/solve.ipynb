{
 "cells": [
  {
   "cell_type": "code",
   "execution_count": 1,
   "metadata": {},
   "outputs": [],
   "source": [
    "import numpy as np\n",
    "import torch\n",
    "import itertools"
   ]
  },
  {
   "cell_type": "code",
   "execution_count": 2,
   "metadata": {},
   "outputs": [],
   "source": [
    "with open('challenge_files/ciphertext.txt', 'r') as f:\n",
    "    ciphertext = f.read().splitlines()\n",
    "\n",
    "ciphertext = np.array([[float(x_) for x_ in x.split()] for x in ciphertext], dtype=np.float32)"
   ]
  },
  {
   "cell_type": "code",
   "execution_count": 3,
   "metadata": {},
   "outputs": [],
   "source": [
    "n = ciphertext.shape[1] - 1\n",
    "n_bits = n * 9\n",
    "\n",
    "state_dict = torch.load('challenge_files/model.pth', weights_only=True)\n",
    "\n",
    "conv2d_2x2_s1_p1_w = state_dict['conv.weight'].numpy()\n",
    "conv2d_2x2_s1_p1_b = state_dict['conv.bias'].numpy()\n",
    "linear_w           = state_dict['linear.weight'].numpy()\n",
    "linear_b           = state_dict['linear.bias'].numpy()\n",
    "conv2d_3x3_s3_w    = state_dict['conv1.weight'].numpy()\n",
    "conv2d_3x3_s3_b    = state_dict['conv1.bias'].numpy()"
   ]
  },
  {
   "cell_type": "code",
   "execution_count": 4,
   "metadata": {},
   "outputs": [],
   "source": [
    "def invert_conv2d_2x2_s1_p1(y, c_w, c_b):\n",
    "    w00 = c_w[0, 0, 0, 0]\n",
    "    w01 = c_w[0, 0, 0, 1]\n",
    "    w10 = c_w[0, 0, 1, 0]\n",
    "    w11 = c_w[0, 0, 1, 1]\n",
    "\n",
    "    h, w = y.shape\n",
    "    x = np.zeros_like(y)\n",
    "\n",
    "    for i in range(h):\n",
    "        for j in range(w):\n",
    "            val = y[i, j] - c_b[0]\n",
    "\n",
    "            if i - 1 >= 0 and j - 1 >= 0:\n",
    "                val -= w00 * x[i - 1, j - 1]\n",
    "            if i - 1 >= 0:\n",
    "                val -= w01 * x[i - 1, j]\n",
    "            if j - 1 >= 0:\n",
    "                val -= w10 * x[i, j - 1]\n",
    "\n",
    "            x[i, j] = val / w11\n",
    "\n",
    "    return x\n",
    "\n",
    "def invert_linear_48_2304(y, l_w, l_b):\n",
    "    y_ = y - l_b\n",
    "\n",
    "    W_pinv = np.linalg.pinv(l_w)\n",
    "    x = np.dot(y_, W_pinv.T)\n",
    "    return x\n",
    "\n",
    "def invert_conv2d_3x3_s3(y, c_w, c_b):\n",
    "    w = c_w.reshape(3, 3)\n",
    "    b = c_b[0]\n",
    "\n",
    "    y_h, y_w = y.shape\n",
    "    x_h, x_w = y_h * 3, y_w * 3\n",
    "    x = np.zeros((x_h, x_w), dtype=np.float32)\n",
    "\n",
    "    # input is 3x3 of 1 or 0 values\n",
    "    # brute force all possible 3x3 inputs and keep in a cache\n",
    "    # then we can just look up the value in the cache\n",
    "    cache_inv = {}\n",
    "    for bits in itertools.product([0, 1], repeat=9):\n",
    "        bits = np.array(bits, dtype=np.float32).reshape(3, 3)\n",
    "        cache_inv[tuple(bits.flatten())] = np.sum(bits * w) + b\n",
    "\n",
    "    cache = {}\n",
    "    for k, v in cache_inv.items():\n",
    "        assert v not in cache # ensure no collisions\n",
    "        cache[v] = k\n",
    "\n",
    "    # for each 3x3 block in the output\n",
    "    # look up the value in the cache\n",
    "    for i in range(y_h):\n",
    "        for j in range(y_w):\n",
    "            y_val = y[i, j]\n",
    "            x[i*3:i*3+3, j*3:j*3+3] = np.array(cache[y_val]).reshape(3, 3)\n",
    "\n",
    "    return x\n"
   ]
  },
  {
   "cell_type": "code",
   "execution_count": 5,
   "metadata": {},
   "outputs": [],
   "source": [
    "x3 = invert_conv2d_2x2_s1_p1(ciphertext, conv2d_2x2_s1_p1_w, conv2d_2x2_s1_p1_b)\n",
    "x3 = x3[:-1, :-1]\n",
    "x3 = x3.reshape((1, n * n))\n",
    "x2 = np.round(invert_linear_48_2304(x3, linear_w, linear_b))\n",
    "x1 = invert_conv2d_3x3_s3(x2, conv2d_3x3_s3_w, conv2d_3x3_s3_b)\n",
    "x  = x1.flatten()"
   ]
  },
  {
   "cell_type": "code",
   "execution_count": 6,
   "metadata": {},
   "outputs": [
    {
     "name": "stdout",
     "output_type": "stream",
     "text": [
      "b'SUCTF{Mi_sika_mosi!Mi_muhe_mita,mita_movo_lata!}'\n"
     ]
    }
   ],
   "source": [
    "secret_key = bytes([\n",
    "    int(\"\".join(map(str, x[i:i+9].astype(int))), 2)\n",
    "    for i in range(0, len(x), 9)\n",
    "])\n",
    "print(secret_key)"
   ]
  }
 ],
 "metadata": {
  "kernelspec": {
   "display_name": "pyt",
   "language": "python",
   "name": "python3"
  },
  "language_info": {
   "codemirror_mode": {
    "name": "ipython",
    "version": 3
   },
   "file_extension": ".py",
   "mimetype": "text/x-python",
   "name": "python",
   "nbconvert_exporter": "python",
   "pygments_lexer": "ipython3",
   "version": "3.10.13"
  }
 },
 "nbformat": 4,
 "nbformat_minor": 2
}
